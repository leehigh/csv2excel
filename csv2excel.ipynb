{
 "cells": [
  {
   "cell_type": "markdown",
   "metadata": {},
   "source": [
    "# csv2excel\n",
    "**you should create a new excel file before**"
   ]
  },
  {
   "cell_type": "code",
   "execution_count": 1,
   "metadata": {},
   "outputs": [],
   "source": [
    "# -*- coding: utf-8 -*-\n",
    "import pandas as pd"
   ]
  },
  {
   "cell_type": "markdown",
   "metadata": {},
   "source": [
    "tell me your csv(or txt) and excel path here"
   ]
  },
  {
   "cell_type": "code",
   "execution_count": 2,
   "metadata": {},
   "outputs": [],
   "source": [
    "sourcefile_path = './test.csv'\n",
    "excel_path = './test.xlsx'"
   ]
  },
  {
   "cell_type": "markdown",
   "metadata": {},
   "source": [
    "use 'sep' to split the data"
   ]
  },
  {
   "cell_type": "code",
   "execution_count": 3,
   "metadata": {},
   "outputs": [],
   "source": [
    "mydata = pd.read_csv(sourcefile_path, error_bad_lines=False, sep='\\n', header=None)"
   ]
  },
  {
   "cell_type": "code",
   "execution_count": 5,
   "metadata": {},
   "outputs": [
    {
     "name": "stdout",
     "output_type": "stream",
     "text": [
      " 2885\n",
      " 3704\n",
      " 3894\n",
      " 7635\n",
      " 9102\n",
      " 10940\n",
      " 11082\n",
      " 12950\n",
      "list index out of range 17837\n",
      "list index out of range 17838\n",
      " 18703\n",
      " 20205\n",
      " 22658\n",
      " 23235\n",
      " 23680\n",
      " 24009\n",
      " 24375\n",
      " 25702\n",
      " 27480\n",
      " 27612\n",
      "list index out of range 29206\n",
      " 31487\n",
      " 34294\n"
     ]
    }
   ],
   "source": [
    "excel_file = pd.ExcelWriter(excel_path)\n",
    "for x in enumerate(mydata[0]):\n",
    "  # my data is like 'a, b, c', so split first\n",
    "  all_info = x[1].split(',')\n",
    "  try:\n",
    "    df = pd.DataFrame(data={'0':all_info[0], '1':all_info[1], '2':all_info[2], '3':all_info[3], '4':all_info[4]}, index=[x[0]])\n",
    "    df.to_excel(excel_file, 'Sheet1', startrow=x[0], header=False)\n",
    "  except BaseException as e:\n",
    "    print(e, x[0])\n",
    "excel_file.save()"
   ]
  },
  {
   "cell_type": "code",
   "execution_count": null,
   "metadata": {},
   "outputs": [],
   "source": []
  }
 ],
 "metadata": {
  "kernelspec": {
   "display_name": "Python 3",
   "language": "python",
   "name": "python3"
  },
  "language_info": {
   "codemirror_mode": {
    "name": "ipython",
    "version": 3
   },
   "file_extension": ".py",
   "mimetype": "text/x-python",
   "name": "python",
   "nbconvert_exporter": "python",
   "pygments_lexer": "ipython3",
   "version": "3.6.3"
  }
 },
 "nbformat": 4,
 "nbformat_minor": 2
}
